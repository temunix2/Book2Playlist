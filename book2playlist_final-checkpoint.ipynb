{
 "cells": [
  {
   "cell_type": "code",
   "execution_count": 1,
   "metadata": {},
   "outputs": [],
   "source": [
    "import pickle\n",
    "import pandas as pd\n",
    "import numpy as np\n",
    "import gensim\n",
    "import spotipy\n",
    "from pprint import pprint\n",
    "import random\n",
    "import time\n",
    "from sklearn.metrics.pairwise import cosine_similarity\n",
    "from sklearn.metrics.pairwise import manhattan_distances\n",
    "from sklearn.metrics.pairwise import euclidean_distances\n",
    "from scipy import spatial\n",
    "from sklearn.preprocessing import Normalizer"
   ]
  },
  {
   "cell_type": "code",
   "execution_count": 2,
   "metadata": {},
   "outputs": [],
   "source": [
    "with open('songs_df.pkl', 'rb') as f:\n",
    "    songs_df = pickle.load(f) \n",
    "with open('songs_topics.pkl', 'rb') as f:\n",
    "    songs_topics = pickle.load(f) "
   ]
  },
  {
   "cell_type": "code",
   "execution_count": 160,
   "metadata": {},
   "outputs": [],
   "source": [
    "with open('books_df.pkl', 'rb') as f:\n",
    "    books_df = pickle.load(f) \n",
    "with open('books_topics.pkl', 'rb') as f:\n",
    "    books_topics = pickle.load(f) "
   ]
  },
  {
   "cell_type": "code",
   "execution_count": 4,
   "metadata": {},
   "outputs": [],
   "source": [
    "songs_df['search']= songs_df['artist'] + \" \" + songs_df['song']\n",
    "songs_df['search'] = songs_df['search'].str.replace('feat.','/')"
   ]
  },
  {
   "cell_type": "code",
   "execution_count": null,
   "metadata": {},
   "outputs": [],
   "source": []
  },
  {
   "cell_type": "code",
   "execution_count": null,
   "metadata": {},
   "outputs": [],
   "source": [
    "google_vec_file = '/home/ubuntu/Fletcher/GoogleNews-vectors-negative300.bin.gz'"
   ]
  },
  {
   "cell_type": "code",
   "execution_count": null,
   "metadata": {},
   "outputs": [],
   "source": [
    "%time model = gensim.models.KeyedVectors.load_word2vec_format(google_vec_file, binary=True)"
   ]
  },
  {
   "cell_type": "markdown",
   "metadata": {},
   "source": [
    "## create a look up table for topic matching Book topics <--> Song topics"
   ]
  },
  {
   "cell_type": "code",
   "execution_count": null,
   "metadata": {},
   "outputs": [],
   "source": [
    "# check if the word is in the gensim model if not then remove the word\n",
    "list_song_topics = []\n",
    "list_book_topics = []\n",
    "\n",
    "for num in range(songs_topics.shape[0]):\n",
    "    words = list(filter(lambda x: x in model.vocab, list(songs_topics.iloc[num])))\n",
    "    list_song_topics.append(words)\n",
    "for num in range(books_topics.shape[0]):\n",
    "    woj = list(filter(lambda x: x in model.vocab, list(books_topics.iloc[num])))\n",
    "    list_book_topics.append(woj)"
   ]
  },
  {
   "cell_type": "code",
   "execution_count": null,
   "metadata": {},
   "outputs": [],
   "source": [
    "# find the song topic that best matches the appropriate book topic using google word to vec similarities score\n",
    "song2book = []\n",
    "store = -1\n",
    "for i,luf in enumerate(list_book_topics):\n",
    "    temp = 0\n",
    "    op = []\n",
    "    for idx,zoro in enumerate(list_song_topics):\n",
    "        met = model.n_similarity(luf,zoro)\n",
    "        if temp < met:\n",
    "            store = idx\n",
    "            temp = met \n",
    "        else:\n",
    "            continue\n",
    "    op.append(i)\n",
    "    op.append(store)\n",
    "    op.append(temp)\n",
    "    song2book.append(op)"
   ]
  },
  {
   "cell_type": "code",
   "execution_count": null,
   "metadata": {},
   "outputs": [],
   "source": [
    "col = ['book_topic','song_topic','max_per']\n",
    "df = pd.DataFrame(song2book, columns=col)"
   ]
  },
  {
   "cell_type": "code",
   "execution_count": null,
   "metadata": {},
   "outputs": [],
   "source": [
    "topic_lookup.iloc[76]"
   ]
  },
  {
   "cell_type": "code",
   "execution_count": 5,
   "metadata": {},
   "outputs": [],
   "source": [
    "# with open('topic_lookup.pkl', 'wb') as f:\n",
    "#     pickle.dump(df, f)\n",
    "with open('topic_lookup.pkl', 'rb') as f:\n",
    "    topic_lookup = pickle.load(f) "
   ]
  },
  {
   "cell_type": "code",
   "execution_count": 9,
   "metadata": {},
   "outputs": [
    {
     "data": {
      "text/plain": [
       "(36, 2)"
      ]
     },
     "execution_count": 9,
     "metadata": {},
     "output_type": "execute_result"
    }
   ],
   "source": [
    "topic_lookup.groupby('song_topic').count().shape # 7 song topics covered all the books : : with a 100 topics 36 song topics chosen "
   ]
  },
  {
   "cell_type": "markdown",
   "metadata": {},
   "source": [
    "# Spotipy"
   ]
  },
  {
   "cell_type": "code",
   "execution_count": 10,
   "metadata": {},
   "outputs": [],
   "source": [
    "from spotipy import util\n",
    "unm = \"spotify:user:1243463812\"\n",
    "user = '1243463812'\n",
    "scope = \"playlist-modify-private\"\n",
    "\n",
    "token = util.prompt_for_user_token(\n",
    "    unm,\n",
    "    scope,\n",
    "    client_id='1bfe1674111049e3ab2bbc1bf4a7640d',\n",
    "    client_secret='82b9cc64a23f4956bf2dbbeae6895b35',\n",
    "    redirect_uri='http://localhost/')\n",
    "sp = spotipy.Spotify(auth=token)"
   ]
  },
  {
   "cell_type": "code",
   "execution_count": null,
   "metadata": {},
   "outputs": [],
   "source": [
    "sp.user(user)"
   ]
  },
  {
   "cell_type": "code",
   "execution_count": null,
   "metadata": {},
   "outputs": [],
   "source": [
    "search_list = list(songs_df['search'])"
   ]
  },
  {
   "cell_type": "code",
   "execution_count": null,
   "metadata": {},
   "outputs": [],
   "source": [
    "hotvec = search_list\n",
    "audio_predf = []\n",
    "song_predf = []\n",
    "aud_uri =[]\n",
    "len(hotvec)"
   ]
  },
  {
   "cell_type": "markdown",
   "metadata": {},
   "source": [
    "### pulling all the song data (audio features,uri, name, artist) for the songs w/ lyrics"
   ]
  },
  {
   "cell_type": "code",
   "execution_count": null,
   "metadata": {
    "scrolled": true
   },
   "outputs": [],
   "source": [
    "count = 0\n",
    "not_found = 0\n",
    "for song in hotvec:\n",
    "    try:\n",
    "        if count % 500 == 0:\n",
    "            time.sleep(5)\n",
    "        results = sp.search(q=song, type='track',limit=5)\n",
    "        dion = {}\n",
    "        if results['tracks']['total'] == 0:\n",
    "            print(f'{count}: No Results Found')\n",
    "            not_found += 1\n",
    "        else:\n",
    "            aud_fet =a results['tracks']['items'][0]['uri']\n",
    "            artist_name = results['tracks']['items'][0]['artists'][0]['name']\n",
    "            song_name = results['tracks']['items'][0]['name']\n",
    "    #         pprint(sp.audio_features(aud_fet)[0])\n",
    "            aud_uri.append(aud_fet)\n",
    "            audio_predf.append(sp.audio_features(aud_fet)[0])\n",
    "            dion['artist_name'] = artist_name\n",
    "            dion['song_name'] = song_name\n",
    "            dion['match_key'] = song\n",
    "            song_predf.append(dion)\n",
    "    #         pprint(f\"{artist_name}: {song_name}\")\n",
    "            print(f'{count}: Result Found')\n",
    "        count+= 1\n",
    "    except Exception as e:\n",
    "#         if token:\n",
    "# #             pass\n",
    "#         else:\n",
    "        token = util.prompt_for_user_token(unm,scope,\n",
    "        client_id='1bfe1674111049e3ab2bbc1bf4a7640d',\n",
    "        client_secret='82b9cc64a23f4956bf2dbbeae6895b35',\n",
    "        redirect_uri='http://localhost/')\n",
    "        sp = spotipy.Spotify(auth=token)\n",
    "        continue"
   ]
  },
  {
   "cell_type": "code",
   "execution_count": null,
   "metadata": {},
   "outputs": [],
   "source": [
    "remove_ind = []\n",
    "for idx, val in enumerate(audio_predf):\n",
    "    if val == None:\n",
    "        print(f'{idx}: yes')\n",
    "        remove_ind.append(idx)"
   ]
  },
  {
   "cell_type": "code",
   "execution_count": null,
   "metadata": {},
   "outputs": [],
   "source": [
    "new_aud = []\n",
    "for idx, val in enumerate(audio_predf):\n",
    "    if idx in remove_ind:\n",
    "        print(f'{idx}: yes')\n",
    "    else:\n",
    "        new_aud.append(val)"
   ]
  },
  {
   "cell_type": "code",
   "execution_count": null,
   "metadata": {
    "scrolled": true
   },
   "outputs": [],
   "source": [
    "new_song = []\n",
    "for idx, val in enumerate(song_predf):\n",
    "    if idx in remove_ind:\n",
    "        print(f'{idx}: yes')\n",
    "    else:\n",
    "        new_song.append(val)"
   ]
  },
  {
   "cell_type": "code",
   "execution_count": null,
   "metadata": {},
   "outputs": [],
   "source": [
    "yoku = pd.DataFrame(new_song).reset_index().merge(pd.DataFrame(new_aud).reset_index())"
   ]
  },
  {
   "cell_type": "code",
   "execution_count": null,
   "metadata": {},
   "outputs": [],
   "source": [
    "# with open('spotify_metrics.pkl', 'wb') as f:\n",
    "#     pickle.dump(yoku, f)"
   ]
  },
  {
   "cell_type": "code",
   "execution_count": 11,
   "metadata": {},
   "outputs": [],
   "source": [
    "with open('spotify_metrics.pkl', 'rb') as f:\n",
    "    yoku = pickle.load(f) "
   ]
  },
  {
   "cell_type": "code",
   "execution_count": 12,
   "metadata": {},
   "outputs": [],
   "source": [
    "# dropped rows without spotify metrics row count @ 47152\n",
    "solas = songs_df.join(yoku.set_index('match_key'), on='search')\n",
    "solas.dropna(inplace=True)\n",
    "solas['playlist_name'] = 'kaggle lyrics'"
   ]
  },
  {
   "cell_type": "code",
   "execution_count": 158,
   "metadata": {},
   "outputs": [
    {
     "data": {
      "text/plain": [
       "(47152, 30)"
      ]
     },
     "execution_count": 158,
     "metadata": {},
     "output_type": "execute_result"
    }
   ],
   "source": [
    "solas.shape"
   ]
  },
  {
   "cell_type": "markdown",
   "metadata": {},
   "source": [
    "# Spotify Public Playlists and songs"
   ]
  },
  {
   "cell_type": "code",
   "execution_count": null,
   "metadata": {
    "scrolled": false
   },
   "outputs": [],
   "source": [
    "# get all the playlist ids to use to search for the tracks\n",
    "user = 'spotify'\n",
    "spotify_playlist_id = []\n",
    "spotify_playlist_name = []\n",
    "playlists = sp.user_playlists(user)\n",
    "# pprint(playlists['items'][49]['name']) #test line\n",
    "while playlists:\n",
    "    for i, playlist in enumerate(playlists['items']):\n",
    "#         print(\"%4d %s %s\" % (i + 1 + playlists['offset'], playlist['uri'],  playlist['name']))\n",
    "        spotify_playlist_id.append(playlist['id'])\n",
    "        spotify_playlist_name.append(playlist['name'])\n",
    "    if playlists['next']:\n",
    "        playlists = sp.next(playlists)\n",
    "    else:\n",
    "        playlists = None"
   ]
  },
  {
   "cell_type": "code",
   "execution_count": null,
   "metadata": {
    "scrolled": true
   },
   "outputs": [],
   "source": [
    "# tde = []\n",
    "# for idx, idnum in enumerate(spotify_playlist_id):\n",
    "#     if idx % 500 == 0:\n",
    "#         time.sleep(5)\n",
    "#     try:\n",
    "#         sp_playlist = sp.user_playlist_tracks(user, playlist_id=idnum)\n",
    "#         for num in range(len(sp_playlist['items'])):\n",
    "#             adion = {}\n",
    "#             adion['playlist_name'] = spotify_playlist_name[idx]\n",
    "#             adion['song_name'] = sp_playlist['items'][num]['track']['name']\n",
    "#             adion['song_uri'] = sp_playlist['items'][num]['track']['uri']\n",
    "#             if sp.audio_features(sp_playlist['items'][num]['track']['uri'])[0] is None:\n",
    "#                 pass\n",
    "#             else:\n",
    "#                 adion.update(sp.audio_features(sp_playlist['items'][num]['track']['uri'])[0])\n",
    "#             tde.append(adion)\n",
    "#         print(f'percent complete {round(idx/len(spotify_playlist_id)*100,2)} %')\n",
    "#     except Exception as e:\n",
    "#         token = util.prompt_for_user_token(unm,scope,\n",
    "#         client_id='1bfe1674111049e3ab2bbc1bf4a7640d',\n",
    "#         client_secret='82b9cc64a23f4956bf2dbbeae6895b35',\n",
    "#         redirect_uri='http://localhost/')\n",
    "#         sp = spotipy.Spotify(auth=token)\n",
    "#         continue"
   ]
  },
  {
   "cell_type": "code",
   "execution_count": null,
   "metadata": {},
   "outputs": [],
   "source": [
    "spotify_public_playlists = pd.DataFrame(tde).reset_index()\n",
    "spotify_public_playlists.drop(columns='song_uri',inplace=True)\n",
    "spotify_public_playlists.shape"
   ]
  },
  {
   "cell_type": "code",
   "execution_count": null,
   "metadata": {},
   "outputs": [],
   "source": [
    "# with open('spotify_public_playlists.pkl', 'wb') as f:\n",
    "#     pickle.dump(spotify_public_playlists, f)"
   ]
  },
  {
   "cell_type": "code",
   "execution_count": 13,
   "metadata": {},
   "outputs": [],
   "source": [
    "with open('spotify_public_playlists.pkl', 'rb') as f:\n",
    "    spotify_public_playlists = pickle.load(f)"
   ]
  },
  {
   "cell_type": "code",
   "execution_count": null,
   "metadata": {},
   "outputs": [],
   "source": []
  },
  {
   "cell_type": "markdown",
   "metadata": {},
   "source": [
    "## join spotify song dataframe and lyrics song dataframe"
   ]
  },
  {
   "cell_type": "code",
   "execution_count": 164,
   "metadata": {},
   "outputs": [],
   "source": [
    "col = list(spotify_public_playlists.columns)\n",
    "shewas = pd.concat([spotify_public_playlists,solas[col]])\n",
    "shewas.dropna(inplace=True)\n",
    "shewas.reset_index(inplace=True)\n",
    "shewas.drop(columns=['index','level_0'],inplace=True)\n",
    "shewas.reset_index(inplace=True)\n",
    "shewas"
   ]
  },
  {
   "cell_type": "code",
   "execution_count": 162,
   "metadata": {},
   "outputs": [],
   "source": [
    "# with open('songlist_master.pkl', 'wb') as f:\n",
    "#     pickle.dump(shewas, f)"
   ]
  },
  {
   "cell_type": "code",
   "execution_count": 15,
   "metadata": {
    "scrolled": true
   },
   "outputs": [],
   "source": [
    "avg_met_topic = solas[solas.dom_per > 0.6].groupby(['dom_top']).mean().reset_index()\n",
    "cololo = list(avg_met_topic.iloc[:,3:].columns)\n",
    "cololo.remove('duration_ms')"
   ]
  },
  {
   "cell_type": "code",
   "execution_count": 142,
   "metadata": {
    "scrolled": true
   },
   "outputs": [
    {
     "data": {
      "text/html": [
       "<div>\n",
       "<style scoped>\n",
       "    .dataframe tbody tr th:only-of-type {\n",
       "        vertical-align: middle;\n",
       "    }\n",
       "\n",
       "    .dataframe tbody tr th {\n",
       "        vertical-align: top;\n",
       "    }\n",
       "\n",
       "    .dataframe thead th {\n",
       "        text-align: right;\n",
       "    }\n",
       "</style>\n",
       "<table border=\"1\" class=\"dataframe\">\n",
       "  <thead>\n",
       "    <tr style=\"text-align: right;\">\n",
       "      <th></th>\n",
       "      <th>index</th>\n",
       "      <th>acousticness</th>\n",
       "      <th>analysis_url</th>\n",
       "      <th>danceability</th>\n",
       "      <th>duration_ms</th>\n",
       "      <th>energy</th>\n",
       "      <th>id</th>\n",
       "      <th>instrumentalness</th>\n",
       "      <th>key</th>\n",
       "      <th>liveness</th>\n",
       "      <th>...</th>\n",
       "      <th>mode</th>\n",
       "      <th>playlist_name</th>\n",
       "      <th>song_name</th>\n",
       "      <th>speechiness</th>\n",
       "      <th>tempo</th>\n",
       "      <th>time_signature</th>\n",
       "      <th>track_href</th>\n",
       "      <th>type</th>\n",
       "      <th>uri</th>\n",
       "      <th>valence</th>\n",
       "    </tr>\n",
       "  </thead>\n",
       "  <tbody>\n",
       "    <tr>\n",
       "      <th>10644</th>\n",
       "      <td>10644</td>\n",
       "      <td>0.582</td>\n",
       "      <td>https://api.spotify.com/v1/audio-analysis/0eBW...</td>\n",
       "      <td>0.524</td>\n",
       "      <td>252000.0</td>\n",
       "      <td>0.4730</td>\n",
       "      <td>0eBWx5UyJmmBVBgMGiEY7V</td>\n",
       "      <td>0.899</td>\n",
       "      <td>9.0</td>\n",
       "      <td>0.0843</td>\n",
       "      <td>...</td>\n",
       "      <td>0.0</td>\n",
       "      <td>Brain Food</td>\n",
       "      <td>Hearts</td>\n",
       "      <td>0.0293</td>\n",
       "      <td>149.971</td>\n",
       "      <td>4.0</td>\n",
       "      <td>https://api.spotify.com/v1/tracks/0eBWx5UyJmmB...</td>\n",
       "      <td>audio_features</td>\n",
       "      <td>spotify:track:0eBWx5UyJmmBVBgMGiEY7V</td>\n",
       "      <td>0.2200</td>\n",
       "    </tr>\n",
       "    <tr>\n",
       "      <th>17075</th>\n",
       "      <td>17075</td>\n",
       "      <td>0.379</td>\n",
       "      <td>https://api.spotify.com/v1/audio-analysis/2dub...</td>\n",
       "      <td>0.186</td>\n",
       "      <td>514120.0</td>\n",
       "      <td>0.3790</td>\n",
       "      <td>2dub8v7F2V1GcSgjobpPqD</td>\n",
       "      <td>0.896</td>\n",
       "      <td>7.0</td>\n",
       "      <td>0.2940</td>\n",
       "      <td>...</td>\n",
       "      <td>0.0</td>\n",
       "      <td>Avant Folk</td>\n",
       "      <td>Hearts &amp; Daggers</td>\n",
       "      <td>0.0319</td>\n",
       "      <td>147.634</td>\n",
       "      <td>3.0</td>\n",
       "      <td>https://api.spotify.com/v1/tracks/2dub8v7F2V1G...</td>\n",
       "      <td>audio_features</td>\n",
       "      <td>spotify:track:2dub8v7F2V1GcSgjobpPqD</td>\n",
       "      <td>0.1870</td>\n",
       "    </tr>\n",
       "    <tr>\n",
       "      <th>47373</th>\n",
       "      <td>47373</td>\n",
       "      <td>0.862</td>\n",
       "      <td>https://api.spotify.com/v1/audio-analysis/4iMT...</td>\n",
       "      <td>0.312</td>\n",
       "      <td>680932.0</td>\n",
       "      <td>0.0726</td>\n",
       "      <td>4iMTr1kaSlNhSLUqLsz3az</td>\n",
       "      <td>0.877</td>\n",
       "      <td>0.0</td>\n",
       "      <td>0.0964</td>\n",
       "      <td>...</td>\n",
       "      <td>0.0</td>\n",
       "      <td>Guest List: GamesBeat</td>\n",
       "      <td>Dearly Beloved (From \"Kingdom Hearts\") [2012]</td>\n",
       "      <td>0.0492</td>\n",
       "      <td>87.219</td>\n",
       "      <td>4.0</td>\n",
       "      <td>https://api.spotify.com/v1/tracks/4iMTr1kaSlNh...</td>\n",
       "      <td>audio_features</td>\n",
       "      <td>spotify:track:4iMTr1kaSlNhSLUqLsz3az</td>\n",
       "      <td>0.0384</td>\n",
       "    </tr>\n",
       "    <tr>\n",
       "      <th>57366</th>\n",
       "      <td>57366</td>\n",
       "      <td>0.992</td>\n",
       "      <td>https://api.spotify.com/v1/audio-analysis/5U46...</td>\n",
       "      <td>0.466</td>\n",
       "      <td>196000.0</td>\n",
       "      <td>0.0211</td>\n",
       "      <td>5U463rClubkFesH8GRxJNa</td>\n",
       "      <td>0.959</td>\n",
       "      <td>7.0</td>\n",
       "      <td>0.1070</td>\n",
       "      <td>...</td>\n",
       "      <td>0.0</td>\n",
       "      <td>Piano in the Background</td>\n",
       "      <td>Two Hearts</td>\n",
       "      <td>0.0475</td>\n",
       "      <td>92.111</td>\n",
       "      <td>4.0</td>\n",
       "      <td>https://api.spotify.com/v1/tracks/5U463rClubkF...</td>\n",
       "      <td>audio_features</td>\n",
       "      <td>spotify:track:5U463rClubkFesH8GRxJNa</td>\n",
       "      <td>0.3130</td>\n",
       "    </tr>\n",
       "    <tr>\n",
       "      <th>59954</th>\n",
       "      <td>59954</td>\n",
       "      <td>0.958</td>\n",
       "      <td>https://api.spotify.com/v1/audio-analysis/5qYH...</td>\n",
       "      <td>0.740</td>\n",
       "      <td>201447.0</td>\n",
       "      <td>0.2360</td>\n",
       "      <td>5qYHVw789iW9fBflz0jqx8</td>\n",
       "      <td>0.918</td>\n",
       "      <td>5.0</td>\n",
       "      <td>0.1080</td>\n",
       "      <td>...</td>\n",
       "      <td>1.0</td>\n",
       "      <td>Peaceful Guitar</td>\n",
       "      <td>Floating Hearts</td>\n",
       "      <td>0.0674</td>\n",
       "      <td>94.159</td>\n",
       "      <td>4.0</td>\n",
       "      <td>https://api.spotify.com/v1/tracks/5qYHVw789iW9...</td>\n",
       "      <td>audio_features</td>\n",
       "      <td>spotify:track:5qYHVw789iW9fBflz0jqx8</td>\n",
       "      <td>0.1350</td>\n",
       "    </tr>\n",
       "    <tr>\n",
       "      <th>89673</th>\n",
       "      <td>89673</td>\n",
       "      <td>0.989</td>\n",
       "      <td>https://api.spotify.com/v1/audio-analysis/387K...</td>\n",
       "      <td>0.275</td>\n",
       "      <td>121827.0</td>\n",
       "      <td>0.4500</td>\n",
       "      <td>387KukTyNiXSoR5TrVpPlC</td>\n",
       "      <td>0.924</td>\n",
       "      <td>2.0</td>\n",
       "      <td>0.7100</td>\n",
       "      <td>...</td>\n",
       "      <td>1.0</td>\n",
       "      <td>kaggle lyrics</td>\n",
       "      <td>Hearts of Stone - Live</td>\n",
       "      <td>0.0864</td>\n",
       "      <td>60.550</td>\n",
       "      <td>4.0</td>\n",
       "      <td>https://api.spotify.com/v1/tracks/387KukTyNiXS...</td>\n",
       "      <td>audio_features</td>\n",
       "      <td>spotify:track:387KukTyNiXSoR5TrVpPlC</td>\n",
       "      <td>0.9360</td>\n",
       "    </tr>\n",
       "  </tbody>\n",
       "</table>\n",
       "<p>6 rows × 21 columns</p>\n",
       "</div>"
      ],
      "text/plain": [
       "       index  acousticness                                       analysis_url  \\\n",
       "10644  10644         0.582  https://api.spotify.com/v1/audio-analysis/0eBW...   \n",
       "17075  17075         0.379  https://api.spotify.com/v1/audio-analysis/2dub...   \n",
       "47373  47373         0.862  https://api.spotify.com/v1/audio-analysis/4iMT...   \n",
       "57366  57366         0.992  https://api.spotify.com/v1/audio-analysis/5U46...   \n",
       "59954  59954         0.958  https://api.spotify.com/v1/audio-analysis/5qYH...   \n",
       "89673  89673         0.989  https://api.spotify.com/v1/audio-analysis/387K...   \n",
       "\n",
       "       danceability  duration_ms  energy                      id  \\\n",
       "10644         0.524     252000.0  0.4730  0eBWx5UyJmmBVBgMGiEY7V   \n",
       "17075         0.186     514120.0  0.3790  2dub8v7F2V1GcSgjobpPqD   \n",
       "47373         0.312     680932.0  0.0726  4iMTr1kaSlNhSLUqLsz3az   \n",
       "57366         0.466     196000.0  0.0211  5U463rClubkFesH8GRxJNa   \n",
       "59954         0.740     201447.0  0.2360  5qYHVw789iW9fBflz0jqx8   \n",
       "89673         0.275     121827.0  0.4500  387KukTyNiXSoR5TrVpPlC   \n",
       "\n",
       "       instrumentalness  key  liveness   ...    mode            playlist_name  \\\n",
       "10644             0.899  9.0    0.0843   ...     0.0               Brain Food   \n",
       "17075             0.896  7.0    0.2940   ...     0.0               Avant Folk   \n",
       "47373             0.877  0.0    0.0964   ...     0.0    Guest List: GamesBeat   \n",
       "57366             0.959  7.0    0.1070   ...     0.0  Piano in the Background   \n",
       "59954             0.918  5.0    0.1080   ...     1.0          Peaceful Guitar   \n",
       "89673             0.924  2.0    0.7100   ...     1.0            kaggle lyrics   \n",
       "\n",
       "                                           song_name speechiness    tempo  \\\n",
       "10644                                         Hearts      0.0293  149.971   \n",
       "17075                               Hearts & Daggers      0.0319  147.634   \n",
       "47373  Dearly Beloved (From \"Kingdom Hearts\") [2012]      0.0492   87.219   \n",
       "57366                                     Two Hearts      0.0475   92.111   \n",
       "59954                                Floating Hearts      0.0674   94.159   \n",
       "89673                         Hearts of Stone - Live      0.0864   60.550   \n",
       "\n",
       "       time_signature                                         track_href  \\\n",
       "10644             4.0  https://api.spotify.com/v1/tracks/0eBWx5UyJmmB...   \n",
       "17075             3.0  https://api.spotify.com/v1/tracks/2dub8v7F2V1G...   \n",
       "47373             4.0  https://api.spotify.com/v1/tracks/4iMTr1kaSlNh...   \n",
       "57366             4.0  https://api.spotify.com/v1/tracks/5U463rClubkF...   \n",
       "59954             4.0  https://api.spotify.com/v1/tracks/5qYHVw789iW9...   \n",
       "89673             4.0  https://api.spotify.com/v1/tracks/387KukTyNiXS...   \n",
       "\n",
       "                 type                                   uri valence  \n",
       "10644  audio_features  spotify:track:0eBWx5UyJmmBVBgMGiEY7V  0.2200  \n",
       "17075  audio_features  spotify:track:2dub8v7F2V1GcSgjobpPqD  0.1870  \n",
       "47373  audio_features  spotify:track:4iMTr1kaSlNhSLUqLsz3az  0.0384  \n",
       "57366  audio_features  spotify:track:5U463rClubkFesH8GRxJNa  0.3130  \n",
       "59954  audio_features  spotify:track:5qYHVw789iW9fBflz0jqx8  0.1350  \n",
       "89673  audio_features  spotify:track:387KukTyNiXSoR5TrVpPlC  0.9360  \n",
       "\n",
       "[6 rows x 21 columns]"
      ]
     },
     "execution_count": 142,
     "metadata": {},
     "output_type": "execute_result"
    }
   ],
   "source": [
    "instrumental = shewas[(shewas['instrumentalness'] > 0.8) & (shewas['speechiness'] < 0.33)]\n",
    "# instrumental.sort_values('speechiness',ascending=False)\n",
    "instrumental[instrumental['song_name'].str.contains('Hearts')]"
   ]
  },
  {
   "cell_type": "code",
   "execution_count": null,
   "metadata": {},
   "outputs": [],
   "source": []
  },
  {
   "cell_type": "markdown",
   "metadata": {},
   "source": [
    "# make cosine matrix"
   ]
  },
  {
   "cell_type": "code",
   "execution_count": 143,
   "metadata": {},
   "outputs": [
    {
     "name": "stdout",
     "output_type": "stream",
     "text": [
      "CPU times: user 56 ms, sys: 20 ms, total: 76 ms\n",
      "Wall time: 11.7 ms\n",
      "CPU times: user 40 ms, sys: 4 ms, total: 44 ms\n",
      "Wall time: 1.4 ms\n",
      "CPU times: user 112 ms, sys: 12 ms, total: 124 ms\n",
      "Wall time: 4.07 ms\n"
     ]
    }
   ],
   "source": [
    "# x[np.random.choice(10,1)][0]\n",
    "%time she_col = Normalizer(copy=False).fit_transform(shewas[cololo])\n",
    "%time avg_met_col = Normalizer(copy=False).fit_transform(avg_met_topic[cololo])\n",
    "%time instrument_col = Normalizer(copy=False).fit_transform(instrumental[cololo])"
   ]
  },
  {
   "cell_type": "code",
   "execution_count": 144,
   "metadata": {},
   "outputs": [
    {
     "data": {
      "text/plain": [
       "1"
      ]
     },
     "execution_count": 144,
     "metadata": {},
     "output_type": "execute_result"
    }
   ],
   "source": [
    "# avg_met_topic\n",
    "len([0])"
   ]
  },
  {
   "cell_type": "code",
   "execution_count": 145,
   "metadata": {},
   "outputs": [],
   "source": [
    "manh_matrix = pd.DataFrame(manhattan_distances(she_col,avg_met_col)).applymap(lambda x: 1 - x)\n",
    "inst_manh_matrix = pd.DataFrame(manhattan_distances(instrument_col,avg_met_col),index=instrumental.index.values).applymap(lambda x: 1 - x)"
   ]
  },
  {
   "cell_type": "code",
   "execution_count": 146,
   "metadata": {},
   "outputs": [],
   "source": [
    "cos_matrix = pd.DataFrame(cosine_similarity(she_col,avg_met_col))\n",
    "inst_cos_matrix = pd.DataFrame(cosine_similarity(instrument_col,avg_met_col),index=instrumental.index.values)"
   ]
  },
  {
   "cell_type": "code",
   "execution_count": 147,
   "metadata": {},
   "outputs": [],
   "source": [
    "euc_matrix = pd.DataFrame(euclidean_distances(she_col,avg_met_col)).applymap(lambda x: 1 - x)\n",
    "inst_euc_matrix = pd.DataFrame(euclidean_distances(instrument_col,avg_met_col),index=instrumental.index.values).applymap(lambda x: 1 - x)"
   ]
  },
  {
   "cell_type": "code",
   "execution_count": 148,
   "metadata": {},
   "outputs": [
    {
     "name": "stdout",
     "output_type": "stream",
     "text": [
      "(111185, 12) (99, 12)\n"
     ]
    }
   ],
   "source": [
    "print(she_col.shape,avg_met_col.shape)"
   ]
  },
  {
   "cell_type": "code",
   "execution_count": 149,
   "metadata": {},
   "outputs": [],
   "source": [
    "# with open('cos_matrix.pkl', 'wb') as f:\n",
    "#     pickle.dump(cos_matrix, f)\n",
    "# with open('inst_cos_matrix.pkl', 'wb') as f:\n",
    "#     pickle.dump(inst_cos_matrix, f)"
   ]
  },
  {
   "cell_type": "code",
   "execution_count": 150,
   "metadata": {},
   "outputs": [],
   "source": [
    "# with open('manh_matrix.pkl', 'wb') as f:\n",
    "#     pickle.dump(manh_matrix, f)\n",
    "# with open('inst_manh_matrix.pkl', 'wb') as f:\n",
    "#     pickle.dump(inst_manh_matrix, f)"
   ]
  },
  {
   "cell_type": "code",
   "execution_count": 151,
   "metadata": {},
   "outputs": [],
   "source": [
    "# with open('euc_matrix.pkl', 'wb') as f:\n",
    "#     pickle.dump(euc_matrix, f)\n",
    "# with open('inst_euc_matrix.pkl', 'wb') as f:\n",
    "#     pickle.dump(inst_euc_matrix, f)"
   ]
  },
  {
   "cell_type": "markdown",
   "metadata": {},
   "source": [
    "# Create function that takes the topics and returns a song playlist"
   ]
  },
  {
   "cell_type": "code",
   "execution_count": null,
   "metadata": {},
   "outputs": [],
   "source": [
    "from spotipy import util\n",
    "unm = \"spotify:user:1243463812\"\n",
    "user = '1243463812'\n",
    "scope = \"playlist-modify-private\"\n",
    "\n",
    "token = util.prompt_for_user_token(\n",
    "    unm,\n",
    "    scope,\n",
    "    client_id='1bfe1674111049e3ab2bbc1bf4a7640d',\n",
    "    client_secret='82b9cc64a23f4956bf2dbbeae6895b35',\n",
    "    redirect_uri='http://localhost/')\n",
    "sp = spotipy.Spotify(auth=token)"
   ]
  },
  {
   "cell_type": "code",
   "execution_count": 141,
   "metadata": {},
   "outputs": [],
   "source": [
    "def topic2song(topics, n_songs, mat):\n",
    "    songs = []\n",
    "    old_rows = []\n",
    "    while len(songs) < n_songs:\n",
    "        for i in topics:\n",
    "            scores = list(mat.sort_values(by=i,ascending=False).iloc[0:20].index)\n",
    "            song_row = scores[int(np.random.choice(20,1))]\n",
    "#             print(f\"cur row: {song_row} {shewas.iloc[song_row]['song_name']}\" )\n",
    "#             print(f\"old rows: {old_rows}\")\n",
    "            while shewas.iloc[song_row]['song_name'] in old_rows:\n",
    "                song_row = scores[int(np.random.choice(20,1))]\n",
    "            songs.append(shewas.iloc[song_row])\n",
    "            old_rows.append(shewas.iloc[song_row]['song_name'])\n",
    "    ans_playlist = pd.DataFrame(songs)\n",
    "#             print('song appended')\n",
    "    return ans_playlist"
   ]
  },
  {
   "cell_type": "code",
   "execution_count": 136,
   "metadata": {},
   "outputs": [],
   "source": [
    "def book2topic(doc_name):\n",
    "    topics = []\n",
    "    book_topic = books_df[books_df['title'] == doc_name]['dom_top']\n",
    "    for num in book_topic:\n",
    "        hopo = topic_lookup[topic_lookup['book_topic'] == num]['song_topic']\n",
    "        topics.append(int(hopo))\n",
    "    return topics"
   ]
  },
  {
   "cell_type": "code",
   "execution_count": 139,
   "metadata": {},
   "outputs": [],
   "source": [
    "def book2playlist(doc_name, n_songs, mat,playlist_name):\n",
    "    topics = book2topic(doc_name)\n",
    "    ans = topic2song(topics,n_songs,mat)\n",
    "    for i in range(len(sp.user_playlists(user)['items'])):\n",
    "        if sp.user_playlists(user)['items'][i]['name'] == playlist_name:\n",
    "            playlist_name += '_1'\n",
    "    plylist = sp.user_playlist_create(user,playlist_name,public=False)\n",
    "    sp.user_playlist_add_tracks(user,plylist['id'], list(ans['id']))\n",
    "    print(\"Playlist Created\")"
   ]
  },
  {
   "cell_type": "code",
   "execution_count": 152,
   "metadata": {},
   "outputs": [
    {
     "name": "stdout",
     "output_type": "stream",
     "text": [
      "Playlist Created\n"
     ]
    }
   ],
   "source": [
    "book2playlist('Alice\\'s Adventures in Wonderland', 10, inst_manh_matrix,\"Alice in Wonderland\")"
   ]
  },
  {
   "cell_type": "code",
   "execution_count": 138,
   "metadata": {},
   "outputs": [],
   "source": [
    "# books_df[books_df['title'].str.contains('Alice')]"
   ]
  },
  {
   "cell_type": "code",
   "execution_count": 112,
   "metadata": {},
   "outputs": [
    {
     "data": {
      "text/html": [
       "<div>\n",
       "<style scoped>\n",
       "    .dataframe tbody tr th:only-of-type {\n",
       "        vertical-align: middle;\n",
       "    }\n",
       "\n",
       "    .dataframe tbody tr th {\n",
       "        vertical-align: top;\n",
       "    }\n",
       "\n",
       "    .dataframe thead th {\n",
       "        text-align: right;\n",
       "    }\n",
       "</style>\n",
       "<table border=\"1\" class=\"dataframe\">\n",
       "  <thead>\n",
       "    <tr style=\"text-align: right;\">\n",
       "      <th></th>\n",
       "      <th>index</th>\n",
       "      <th>acousticness</th>\n",
       "      <th>analysis_url</th>\n",
       "      <th>danceability</th>\n",
       "      <th>duration_ms</th>\n",
       "      <th>energy</th>\n",
       "      <th>id</th>\n",
       "      <th>instrumentalness</th>\n",
       "      <th>key</th>\n",
       "      <th>liveness</th>\n",
       "      <th>...</th>\n",
       "      <th>mode</th>\n",
       "      <th>playlist_name</th>\n",
       "      <th>song_name</th>\n",
       "      <th>speechiness</th>\n",
       "      <th>tempo</th>\n",
       "      <th>time_signature</th>\n",
       "      <th>track_href</th>\n",
       "      <th>type</th>\n",
       "      <th>uri</th>\n",
       "      <th>valence</th>\n",
       "    </tr>\n",
       "  </thead>\n",
       "  <tbody>\n",
       "    <tr>\n",
       "      <th>486</th>\n",
       "      <td>486</td>\n",
       "      <td>0.989</td>\n",
       "      <td>https://api.spotify.com/v1/audio-analysis/7ih1...</td>\n",
       "      <td>0.539</td>\n",
       "      <td>274493.0</td>\n",
       "      <td>0.0511</td>\n",
       "      <td>7ih16mauHrpUMOIeWEOyVO</td>\n",
       "      <td>0.928</td>\n",
       "      <td>3.0</td>\n",
       "      <td>0.127</td>\n",
       "      <td>...</td>\n",
       "      <td>1.0</td>\n",
       "      <td>Peaceful Piano</td>\n",
       "      <td>Where's My Love - Piano Solo</td>\n",
       "      <td>0.0588</td>\n",
       "      <td>179.994</td>\n",
       "      <td>4.0</td>\n",
       "      <td>https://api.spotify.com/v1/tracks/7ih16mauHrpU...</td>\n",
       "      <td>audio_features</td>\n",
       "      <td>spotify:track:7ih16mauHrpUMOIeWEOyVO</td>\n",
       "      <td>0.135</td>\n",
       "    </tr>\n",
       "  </tbody>\n",
       "</table>\n",
       "<p>1 rows × 21 columns</p>\n",
       "</div>"
      ],
      "text/plain": [
       "     index  acousticness                                       analysis_url  \\\n",
       "486    486         0.989  https://api.spotify.com/v1/audio-analysis/7ih1...   \n",
       "\n",
       "     danceability  duration_ms  energy                      id  \\\n",
       "486         0.539     274493.0  0.0511  7ih16mauHrpUMOIeWEOyVO   \n",
       "\n",
       "     instrumentalness  key  liveness   ...    mode   playlist_name  \\\n",
       "486             0.928  3.0     0.127   ...     1.0  Peaceful Piano   \n",
       "\n",
       "                        song_name speechiness    tempo  time_signature  \\\n",
       "486  Where's My Love - Piano Solo      0.0588  179.994             4.0   \n",
       "\n",
       "                                            track_href            type  \\\n",
       "486  https://api.spotify.com/v1/tracks/7ih16mauHrpU...  audio_features   \n",
       "\n",
       "                                      uri valence  \n",
       "486  spotify:track:7ih16mauHrpUMOIeWEOyVO   0.135  \n",
       "\n",
       "[1 rows x 21 columns]"
      ]
     },
     "execution_count": 112,
     "metadata": {},
     "output_type": "execute_result"
    }
   ],
   "source": []
  },
  {
   "cell_type": "markdown",
   "metadata": {},
   "source": [
    "songlist_master.pkl\n",
    "topic_lookup.pkl\n",
    "books_df.pkl\n",
    "cos_matrix.pkl\n",
    "manh_matrix.pkl\n",
    "euc_matrix.pkl\n",
    "inst_cos_matrix.pkl\n",
    "inst_manh_matrix.pkl\n",
    "inst_euc_matrix.pkl"
   ]
  },
  {
   "cell_type": "code",
   "execution_count": null,
   "metadata": {},
   "outputs": [],
   "source": []
  },
  {
   "cell_type": "code",
   "execution_count": null,
   "metadata": {},
   "outputs": [],
   "source": []
  },
  {
   "cell_type": "code",
   "execution_count": null,
   "metadata": {},
   "outputs": [],
   "source": []
  }
 ],
 "metadata": {
  "kernelspec": {
   "display_name": "Python 3",
   "language": "python",
   "name": "python3"
  },
  "language_info": {
   "codemirror_mode": {
    "name": "ipython",
    "version": 3
   },
   "file_extension": ".py",
   "mimetype": "text/x-python",
   "name": "python",
   "nbconvert_exporter": "python",
   "pygments_lexer": "ipython3",
   "version": "3.6.4"
  }
 },
 "nbformat": 4,
 "nbformat_minor": 2
}
